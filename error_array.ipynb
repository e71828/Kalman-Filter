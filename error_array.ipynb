{
 "cells": [
  {
   "cell_type": "code",
   "execution_count": 2,
   "id": "fd0ec9d4-32f8-497c-98aa-7667b13cce98",
   "metadata": {},
   "outputs": [
    {
     "data": {
      "text/plain": [
       "array([[3],\n",
       "       [7]])"
      ]
     },
     "execution_count": 2,
     "metadata": {},
     "output_type": "execute_result"
    }
   ],
   "source": [
    "import numpy as np \n",
    "np.array([[1,2],[3, 4]]) @ np.array([[1],[1]]) # 矩阵 x 列"
   ]
  },
  {
   "cell_type": "code",
   "execution_count": 2,
   "id": "70b2a31b-5ba6-4063-bc41-b50d6ae3d84a",
   "metadata": {},
   "outputs": [
    {
     "data": {
      "text/plain": [
       "array([3, 7])"
      ]
     },
     "execution_count": 2,
     "metadata": {},
     "output_type": "execute_result"
    }
   ],
   "source": [
    "np.array([[1,2],[3, 4]]) @ np.array([1,1]) # 矩阵 x 行 ?"
   ]
  },
  {
   "cell_type": "code",
   "execution_count": 3,
   "id": "a203370b-b209-4a73-8659-afd055adf0c1",
   "metadata": {},
   "outputs": [
    {
     "data": {
      "text/plain": [
       "array([2])"
      ]
     },
     "execution_count": 3,
     "metadata": {},
     "output_type": "execute_result"
    }
   ],
   "source": [
    "np.array([1,1]) @ np.array([[1],[1]])  # 行 x 列"
   ]
  },
  {
   "cell_type": "code",
   "execution_count": 4,
   "id": "82c5e13e-e5a1-4fd8-9381-048167e8070c",
   "metadata": {},
   "outputs": [
    {
     "data": {
      "text/plain": [
       "array([[2],\n",
       "       [2]])"
      ]
     },
     "execution_count": 4,
     "metadata": {},
     "output_type": "execute_result"
    }
   ],
   "source": [
    "np.array([[1],[1]]) @ np.array([[2]]) # 列 X 数 "
   ]
  },
  {
   "cell_type": "code",
   "execution_count": 5,
   "id": "3280c54d-528c-40eb-bb4a-3ae68da4d126",
   "metadata": {},
   "outputs": [
    {
     "data": {
      "text/plain": [
       "array([2, 2])"
      ]
     },
     "execution_count": 5,
     "metadata": {},
     "output_type": "execute_result"
    }
   ],
   "source": [
    "np.array([[1],[1]]) @ np.array([2]) # 列 x 数 ?"
   ]
  },
  {
   "cell_type": "code",
   "execution_count": 6,
   "id": "d1227b44-c77c-4eb6-9890-810d3816851e",
   "metadata": {},
   "outputs": [
    {
     "name": "stdout",
     "output_type": "stream",
     "text": [
      "Object `np.array([1,1]) @ np.array([2]) # 行 x 数 ` not found.\n"
     ]
    }
   ],
   "source": [
    "?np.array([1,1]) @ np.array([2]) # 行 x 数 ?"
   ]
  },
  {
   "cell_type": "code",
   "execution_count": 7,
   "id": "32b441e0-0af7-4ac4-be1c-c0f98b1b9014",
   "metadata": {},
   "outputs": [],
   "source": [
    "# np.array([1,1]) @ np.array([[2]]) # 行 x 数 ?"
   ]
  },
  {
   "cell_type": "code",
   "execution_count": 8,
   "id": "365acbca-636d-4bb8-905f-cb5ee6cadab1",
   "metadata": {},
   "outputs": [],
   "source": [
    "# np.array([2]) @ np.array([2]) # 数 × 数 ?"
   ]
  },
  {
   "cell_type": "code",
   "execution_count": 9,
   "id": "b47c1c04-ad3c-4a4c-923f-a9a57a5e92fd",
   "metadata": {},
   "outputs": [],
   "source": [
    "# np.array([1]) @ np.array([2]) @ np.array([2]) # 数 × 数 x 数 ?"
   ]
  },
  {
   "cell_type": "code",
   "execution_count": 10,
   "id": "188d2fb0-f184-467a-8e21-7ebce2301415",
   "metadata": {},
   "outputs": [
    {
     "data": {
      "text/plain": [
       "array([[-0.9, -0.9],\n",
       "       [-0.9, -0.9]])"
      ]
     },
     "execution_count": 10,
     "metadata": {},
     "output_type": "execute_result"
    }
   ],
   "source": [
    "np.array([[0.1], [0.1]]) - np.array([[1], [1]]).dot(np.array([1]))"
   ]
  },
  {
   "cell_type": "code",
   "execution_count": 11,
   "id": "8ce3e945-38bf-4e44-8839-f8c66fda344e",
   "metadata": {},
   "outputs": [
    {
     "data": {
      "text/plain": [
       "array([1, 1])"
      ]
     },
     "execution_count": 11,
     "metadata": {},
     "output_type": "execute_result"
    }
   ],
   "source": [
    "np.array([[1], [1]]).dot(np.array([1]))"
   ]
  },
  {
   "cell_type": "code",
   "execution_count": 12,
   "id": "5fd6368e-5342-4cd4-a880-5fa0d43187dd",
   "metadata": {},
   "outputs": [
    {
     "data": {
      "text/plain": [
       "array([[1],\n",
       "       [1]])"
      ]
     },
     "execution_count": 12,
     "metadata": {},
     "output_type": "execute_result"
    }
   ],
   "source": [
    "np.array([[1, 1]]).T"
   ]
  },
  {
   "cell_type": "code",
   "execution_count": 13,
   "id": "f0d5af11-b94e-4df7-bcb7-9ff5322c43cf",
   "metadata": {},
   "outputs": [
    {
     "data": {
      "text/plain": [
       "array([[1.]])"
      ]
     },
     "execution_count": 13,
     "metadata": {},
     "output_type": "execute_result"
    }
   ],
   "source": [
    "np.linalg.inv(np.array([[1]]))"
   ]
  },
  {
   "cell_type": "code",
   "execution_count": 14,
   "id": "bf739c64-f058-412a-b4ae-d8456ee0bf49",
   "metadata": {},
   "outputs": [
    {
     "data": {
      "text/plain": [
       "(1, 2)"
      ]
     },
     "execution_count": 14,
     "metadata": {},
     "output_type": "execute_result"
    }
   ],
   "source": [
    "np.array([[0.00487013 ,0.00487013]]).shape"
   ]
  },
  {
   "cell_type": "code",
   "execution_count": 15,
   "id": "2d5938d5-c7a8-420d-8d15-58c82f5409a3",
   "metadata": {},
   "outputs": [
    {
     "data": {
      "text/plain": [
       "array([[1],\n",
       "       [1]])"
      ]
     },
     "execution_count": 15,
     "metadata": {},
     "output_type": "execute_result"
    }
   ],
   "source": [
    "np.array([1, 1]).reshape(2,1)"
   ]
  },
  {
   "cell_type": "code",
   "execution_count": 16,
   "id": "1f070082-8708-4e60-bd0e-fb977dcb0359",
   "metadata": {},
   "outputs": [
    {
     "data": {
      "text/plain": [
       "array([0.00974026])"
      ]
     },
     "execution_count": 16,
     "metadata": {},
     "output_type": "execute_result"
    }
   ],
   "source": [
    "np.array([[0.00487013, 0.00487013]]).dot(np.array([[1, 1]]).reshape(2, 1)).reshape(1)"
   ]
  },
  {
   "cell_type": "code",
   "execution_count": 17,
   "id": "3215cdc1-8dfa-4f7c-b247-1ec7de389af2",
   "metadata": {},
   "outputs": [
    {
     "data": {
      "text/plain": [
       "array([0.93305816])"
      ]
     },
     "execution_count": 17,
     "metadata": {},
     "output_type": "execute_result"
    }
   ],
   "source": [
    "0.1 + np.random.rand(1)"
   ]
  },
  {
   "cell_type": "code",
   "execution_count": 18,
   "id": "0f19930d-f01c-48eb-a0ae-c08ff65c075f",
   "metadata": {},
   "outputs": [
    {
     "data": {
      "text/plain": [
       "array([0.3])"
      ]
     },
     "execution_count": 18,
     "metadata": {},
     "output_type": "execute_result"
    }
   ],
   "source": [
    "np.array([0.3]).dot(np.array(1))"
   ]
  },
  {
   "cell_type": "code",
   "execution_count": 3,
   "id": "271e826e-fe64-4b1d-8bad-e97b40f313e7",
   "metadata": {},
   "outputs": [
    {
     "data": {
      "text/plain": [
       "matrix([[1]])"
      ]
     },
     "execution_count": 3,
     "metadata": {},
     "output_type": "execute_result"
    }
   ],
   "source": [
    "np.mat([1])"
   ]
  },
  {
   "cell_type": "code",
   "execution_count": null,
   "id": "2afd5278-3ad9-4084-9c23-51839ecba1bf",
   "metadata": {},
   "outputs": [],
   "source": []
  }
 ],
 "metadata": {
  "kernelspec": {
   "display_name": "Python 3 (ipykernel)",
   "language": "python",
   "name": "python3"
  },
  "language_info": {
   "codemirror_mode": {
    "name": "ipython",
    "version": 3
   },
   "file_extension": ".py",
   "mimetype": "text/x-python",
   "name": "python",
   "nbconvert_exporter": "python",
   "pygments_lexer": "ipython3",
   "version": "3.8.5"
  }
 },
 "nbformat": 4,
 "nbformat_minor": 5
}

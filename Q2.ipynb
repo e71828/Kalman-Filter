{
 "cells": [
  {
   "cell_type": "code",
   "execution_count": 1,
   "id": "c2310818-d1b6-4ba4-bf8a-d94ddf64601a",
   "metadata": {},
   "outputs": [],
   "source": [
    "%matplotlib inline"
   ]
  },
  {
   "cell_type": "markdown",
   "id": "e21dd19c-d64a-49c7-85d5-2e3daf1bf193",
   "metadata": {},
   "source": [
    "# Calman Filter\n",
    "## Question 2"
   ]
  },
  {
   "cell_type": "code",
   "execution_count": 2,
   "id": "112f2fb4-10e5-47e8-a5bd-ca0b2f5fa17a",
   "metadata": {},
   "outputs": [],
   "source": [
    "import numpy as np\n",
    "import matplotlib.pyplot as plt\n",
    "plt.rcParams.update({\n",
    "    'font.family':'Times New Roman',\n",
    "    'text.usetex': True\n",
    "})\n",
    "csfont = {'fontname':'Times New Roman'}\n",
    "from kf import KF, Luenberger, mean_prior\n",
    "rng = np.random.default_rng()"
   ]
  },
  {
   "cell_type": "code",
   "execution_count": 7,
   "id": "2e536528-a8ee-4612-83a6-a3b1bf5bb751",
   "metadata": {},
   "outputs": [],
   "source": [
    "x0 = np.array([2, 0])\n",
    "Ps = np.array([[2, 0], [0, 0.16]])\n",
    "Qs = np.array([[4.9502e-5, 0], [0, 9.8510e-3]])\n",
    "Qs = np.power(Qs, 2)\n",
    "PHIs = np.array([[9.9985e-1, 9.8510e-3], [-2.9553e-2, 9.7030e-1]])\n",
    "GAMMAs = np.eye(2)\n",
    "UPSILONs = np.eye(2)\n",
    "Hs = np.array([[1, 0]])\n",
    "kf = KF(x0=x0, P0=Ps, H=Hs, Q=Qs, R=[0.01], PHI=PHIs, GAMMA=GAMMAs, UPSILON=UPSILONs)\n",
    "mean_prior(kf, [1, 1], 1000)"
   ]
  },
  {
   "cell_type": "code",
   "execution_count": 4,
   "id": "8c86a066-0093-4cf8-b92e-91821220aa93",
   "metadata": {},
   "outputs": [
    {
     "data": {
      "image/png": "[encoded data removed]",
      "text/plain": [
       "<Figure size 432x288 with 2 Axes>"
      ]
     },
     "metadata": {
      "needs_background": "light"
     },
     "output_type": "display_data"
    }
   ],
   "source": [
    "plt.figure()\n",
    "plt.subplot(2, 1, 1)\n",
    "plt.title(r\"$\\hat{x}_k$\")\n",
    "plt.plot([mean[0] for mean in kf.x_hat], 'g', linewidth=1, label=r'$\\varepsilon_1$')\n",
    "plt.plot([mean[1] for mean in kf.x_hat], 'r', linewidth=1, label=r'$\\varepsilon_2$')\n",
    "plt.plot([mean[0] for mean in kf.mean], 'b', linewidth=0.5, label=r'$\\theta_1$')\n",
    "plt.plot([mean[1] for mean in kf.mean], 'm', linewidth=0.5, label=r'$\\theta_2$')\n",
    "leg = plt.legend(loc='upper right', ncol=1, shadow=True, fancybox=True)\n",
    "plt.text(600, 1, r'$\\varepsilon_1$(end) = ' + f\"{kf.x_hat[-1][0]:.4f}\", fontsize=12)\n",
    "plt.text(600, -1, r'$\\varepsilon_2$(end) = ' + f\"{kf.x_hat[-1][1]:.4f}\", fontsize=12)\n",
    "plt.ylim([-2, 2.5])\n",
    "plt.xlim([-30, 1200])\n",
    "\n",
    "plt.subplot(2, 1, 2)\n",
    "plt.title(r\"$P_k$\")\n",
    "plt.plot([cov[0][0] for cov in kf.P], 'g', linewidth=1)\n",
    "plt.plot([cov[1][1] for cov in kf.P], 'r', linewidth=1)\n",
    "plt.text(600, 1.4, r'$P_k$ (1, 1) = ' + f\"{kf.P[-1][0][0]:.5f}\", fontsize=12)\n",
    "plt.text(600, 1, r'$P_k$ (2, 2) = ' + f\"{kf.P[-1][1][1]:.5f}\", fontsize=12)\n",
    "plt.ylim([-0.5, 2.1])\n",
    "plt.xlim([-30, 1200])\n",
    "\n",
    "fig = plt.gcf()\n",
    "plt.tight_layout()\n",
    "fig.savefig('img/answer10'+'.png', dpi=600)\n",
    "plt.show()"
   ]
  },
  {
   "cell_type": "code",
   "execution_count": 5,
   "id": "a111365b-0eaa-4a17-a117-7bafeb920f6a",
   "metadata": {},
   "outputs": [
    {
     "data": {
      "image/png": "[encoded data removed]",
      "text/plain": [
       "<Figure size 432x288 with 2 Axes>"
      ]
     },
     "metadata": {
      "needs_background": "light"
     },
     "output_type": "display_data"
    }
   ],
   "source": [
    "plt.figure()\n",
    "plt.subplot(2, 1, 1)\n",
    "plt.title(r\"$x^\\prime_k$\")\n",
    "plt.plot([mean[0] for mean in kf.x_prime], 'g', linewidth=1, label=r'$\\epsilon_1$')\n",
    "plt.plot([mean[1] for mean in kf.x_prime], 'r', linewidth=1, label=r'$\\epsilon_2$')\n",
    "plt.plot([mean[0] for mean in kf.mean], 'b', linewidth=0.5, label=r'$\\theta_1$')\n",
    "plt.plot([mean[1] for mean in kf.mean], 'm', linewidth=0.5, label=r'$\\theta_2$')\n",
    "leg = plt.legend(loc='upper right', ncol=1, shadow=True, fancybox=True)\n",
    "plt.text(600, 1, r'$\\varepsilon_1$(end) = ' + f\"{kf.x_prime[-1][0]:.4f}\", fontsize=12)\n",
    "plt.text(600, -1, r'$\\varepsilon_2$(end) = ' + f\"{kf.x_prime[-1][1]:.4f}\", fontsize=12)\n",
    "plt.hlines(y=3*np.sqrt(0.00145), xmin=400, xmax=1100, linewidth=0.5, color='grey')\n",
    "plt.hlines(y=-3*np.sqrt(0.00145), xmin=400, xmax=1100, linewidth=0.5, color='grey')\n",
    "plt.ylim([-2, 2.5])\n",
    "plt.xlim([-30, 1200])\n",
    "\n",
    "plt.subplot(2, 1, 2)\n",
    "plt.title(r\"$P^\\prime_k$\")\n",
    "plt.plot([cov[0][0] for cov in kf.P_prime], 'g', linewidth=1)\n",
    "plt.plot([cov[1][1] for cov in kf.P_prime], 'r', linewidth=1)\n",
    "plt.text(600, 1.4, r'$P^\\prime_k$ (1, 1) = ' + f\"{kf.P_prime[-1][0][0]:.5f}\", fontsize=12)\n",
    "plt.text(600, 1, r'$P^\\prime_k$ (2, 2) = ' + f\"{kf.P_prime[-1][1][1]:.5f}\", fontsize=12)\n",
    "plt.ylim([-0.5, 2.1])\n",
    "plt.xlim([-30, 1200])\n",
    "\n",
    "fig = plt.gcf()\n",
    "plt.tight_layout()\n",
    "fig.savefig('img/answer11'+'.png', dpi=600)\n",
    "plt.show()"
   ]
  },
  {
   "cell_type": "code",
   "execution_count": 22,
   "id": "f749024e-5da6-4506-b50a-ef54d37556cf",
   "metadata": {},
   "outputs": [
    {
     "data": {
      "text/plain": [
       "array([8.60698293e-01, 8.05436637e-14])"
      ]
     },
     "execution_count": 22,
     "metadata": {},
     "output_type": "execute_result"
    }
   ],
   "source": [
    "np.power(PHIs, 1000)@np.array([1,1])"
   ]
  },
  {
   "cell_type": "code",
   "execution_count": 27,
   "id": "a243dd42-ad48-4d20-b0eb-a697b783e40b",
   "metadata": {},
   "outputs": [
    {
     "data": {
      "text/plain": [
       "array([ 0.10932722, -0.22629527])"
      ]
     },
     "execution_count": 27,
     "metadata": {},
     "output_type": "execute_result"
    }
   ],
   "source": [
    "np.linalg.matrix_power(PHIs, 210)@np.array([1,1])"
   ]
  },
  {
   "cell_type": "code",
   "execution_count": null,
   "id": "44149be7-ed08-4ee9-9b0a-94cb785e9357",
   "metadata": {},
   "outputs": [],
   "source": []
  }
 ],
 "metadata": {
  "kernelspec": {
   "display_name": "Python 3 (ipykernel)",
   "language": "python",
   "name": "python3"
  },
  "language_info": {
   "codemirror_mode": {
    "name": "ipython",
    "version": 3
   },
   "file_extension": ".py",
   "mimetype": "text/x-python",
   "name": "python",
   "nbconvert_exporter": "python",
   "pygments_lexer": "ipython3",
   "version": "3.8.5"
  }
 },
 "nbformat": 4,
 "nbformat_minor": 5
}
